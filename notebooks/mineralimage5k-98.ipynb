{
 "cells": [
  {
   "cell_type": "code",
   "execution_count": 1,
   "metadata": {
    "ExecuteTime": {
     "end_time": "2024-10-20T23:47:11.866362400Z",
     "start_time": "2024-10-20T23:47:10.950085Z"
    }
   },
   "outputs": [],
   "source": [
    "import pandas as pd\n",
    "import os\n",
    "\n",
    "original_csv_path = \"../data/original-mineralimage5K/minerals_full.csv\""
   ]
  },
  {
   "cell_type": "code",
   "execution_count": 2,
   "metadata": {
    "ExecuteTime": {
     "end_time": "2024-10-20T23:47:14.107056600Z",
     "start_time": "2024-10-20T23:47:13.613268100Z"
    }
   },
   "outputs": [],
   "source": [
    "df = pd.read_csv(original_csv_path)"
   ]
  },
  {
   "cell_type": "code",
   "execution_count": 3,
   "metadata": {
    "ExecuteTime": {
     "end_time": "2024-10-20T23:47:15.570175800Z",
     "start_time": "2024-10-20T23:47:15.554682800Z"
    }
   },
   "outputs": [
    {
     "name": "stdout",
     "output_type": "stream",
     "text": [
      "Type analysis for column 'en_variety':\n",
      "  str: 4\n",
      "\n",
      "Example string values:\n",
      "  viluit\n",
      "  kleiophane\n",
      "  kleiophane\n",
      "  adular\n"
     ]
    }
   ],
   "source": [
    "import pandas as pd\n",
    "from collections import Counter\n",
    "import ast\n",
    "\n",
    "def analyze_column_types(df, column_name, sample_size=100):\n",
    "    # Get the column\n",
    "    column = df[column_name]\n",
    "    \n",
    "    # Take a sample if the column is large\n",
    "    if len(column) > sample_size:\n",
    "        sample = column.sample(sample_size, random_state=42)\n",
    "    else:\n",
    "        sample = column\n",
    "    \n",
    "    # Function to safely evaluate strings that might be Python literals\n",
    "    def safe_eval(val):\n",
    "        try:\n",
    "            return ast.literal_eval(val)\n",
    "        except:\n",
    "            return val\n",
    "\n",
    "    # Analyze types\n",
    "    type_counts = Counter(type(safe_eval(val)).__name__ for val in sample if pd.notna(val))\n",
    "    \n",
    "    print(f\"Type analysis for column '{column_name}':\")\n",
    "    for type_name, count in type_counts.items():\n",
    "        print(f\"  {type_name}: {count}\")\n",
    "    \n",
    "    # If we find strings, let's check if they might be JSON or list-like\n",
    "    if 'str' in type_counts:\n",
    "        str_sample = [val for val in sample if isinstance(val, str)][:5]\n",
    "        print(\"\\nExample string values:\")\n",
    "        for val in str_sample:\n",
    "            print(f\"  {val[:50]}...\" if len(val) > 50 else f\"  {val}\")\n",
    "        \n",
    "        # Check if strings might be JSON or list-like\n",
    "        json_like = any(val.strip().startswith(('[', '{')) for val in str_sample)\n",
    "        if json_like:\n",
    "            print(\"\\nNote: Some string values appear to be JSON or list-like. \"\n",
    "                  \"You may want to parse these.\")\n",
    "\n",
    "# Usage\n",
    "# Assuming df is your DataFrame\n",
    "analyze_column_types(df, 'en_variety')"
   ]
  },
  {
   "cell_type": "code",
   "execution_count": 4,
   "metadata": {
    "ExecuteTime": {
     "end_time": "2024-10-20T23:47:18.267224100Z",
     "start_time": "2024-10-20T23:47:18.254326600Z"
    }
   },
   "outputs": [
    {
     "data": {
      "text/plain": [
       "0        NaN\n",
       "1        NaN\n",
       "2        NaN\n",
       "3        NaN\n",
       "4        NaN\n",
       "        ... \n",
       "44779    NaN\n",
       "44780    NaN\n",
       "44781    NaN\n",
       "44782    NaN\n",
       "44783    NaN\n",
       "Name: en_variety, Length: 44784, dtype: object"
      ]
     },
     "execution_count": 4,
     "metadata": {},
     "output_type": "execute_result"
    }
   ],
   "source": [
    "df['en_variety']"
   ]
  },
  {
   "cell_type": "code",
   "execution_count": 5,
   "metadata": {
    "ExecuteTime": {
     "end_time": "2024-10-20T23:48:19.133135100Z",
     "start_time": "2024-10-20T23:48:19.094512800Z"
    },
    "collapsed": false
   },
   "outputs": [
    {
     "name": "stdout",
     "output_type": "stream",
     "text": [
      "<class 'pandas.core.frame.DataFrame'>\n",
      "RangeIndex: 44784 entries, 0 to 44783\n",
      "Data columns (total 15 columns):\n",
      " #   Column           Non-Null Count  Dtype \n",
      "---  ------           --------------  ----- \n",
      " 0   id               44784 non-null  object\n",
      " 1   path             44784 non-null  object\n",
      " 2   height           44784 non-null  int64 \n",
      " 3   width            44784 non-null  int64 \n",
      " 4   ru_name          44784 non-null  object\n",
      " 5   ru_synonim_name  44784 non-null  object\n",
      " 6   ru_variety       12997 non-null  object\n",
      " 7   ru_satellites    13791 non-null  object\n",
      " 8   ru_description   21248 non-null  object\n",
      " 9   en_name          44784 non-null  object\n",
      " 10  en_variety       339 non-null    object\n",
      " 11  en_satellites    5325 non-null   object\n",
      " 12  en_description   21247 non-null  object\n",
      " 13  text_boxes       44784 non-null  object\n",
      " 14  mineral_boxes    44784 non-null  object\n",
      "dtypes: int64(2), object(13)\n",
      "memory usage: 5.1+ MB\n"
     ]
    }
   ],
   "source": [
    "df.info()"
   ]
  },
  {
   "cell_type": "code",
   "execution_count": 6,
   "metadata": {
    "ExecuteTime": {
     "end_time": "2024-10-20T23:49:47.782072400Z",
     "start_time": "2024-10-20T23:49:47.775556900Z"
    },
    "collapsed": false
   },
   "outputs": [],
   "source": [
    "df['en_description'] = df['en_description'].fillna('')"
   ]
  },
  {
   "cell_type": "code",
   "execution_count": 7,
   "metadata": {
    "ExecuteTime": {
     "end_time": "2024-10-20T23:50:01.358653400Z",
     "start_time": "2024-10-20T23:49:59.403783Z"
    }
   },
   "outputs": [],
   "source": [
    "min_full_dict = dict()\n",
    "\n",
    "for _, row in df.iterrows():\n",
    "    min_id = row['id']\n",
    "    path = row['path']\n",
    "    min_en_name = row['en_name']\n",
    "    min_en_var = row['en_variety']\n",
    "    min_en_description = row['en_description']\n",
    "    text_boxes = row['text_boxes']\n",
    "    min_boxes = row['mineral_boxes']\n",
    "\n",
    "    \n",
    "    min_full_dict[min_id] = {\n",
    "        'path': path,\n",
    "        'name': min_en_name,\n",
    "        'variety': min_en_var,\n",
    "        'description': min_en_description,\n",
    "        'text_boxes': text_boxes,\n",
    "        'mineral_boxes': min_boxes\n",
    "    }"
   ]
  },
  {
   "cell_type": "code",
   "execution_count": 8,
   "metadata": {
    "ExecuteTime": {
     "end_time": "2024-10-20T23:50:03.333442Z",
     "start_time": "2024-10-20T23:50:03.270434300Z"
    }
   },
   "outputs": [
    {
     "name": "stdout",
     "output_type": "stream",
     "text": [
      "10_1\n",
      "{'path': 'data/10_meteor/10_1/FMM_10_1.jpg', 'name': 'meteorite kunya-urgench', 'variety': nan, 'description': 'a fragment weighing 80.4 grams of kunya-urgench stony chondrite with 20-25% metal phases. dropped on june 20, 1998.', 'text_boxes': '[[[0.74316, 0.6229], [0.81641, 0.66565]], [[0.72266, 0.67023], [0.83398, 0.70534]]]', 'mineral_boxes': '[{\"label\": \"a rock\", \"confidence\": 0.326, \"box\": [0.17871, 0.24733, 0.64941, 0.78473]}]'}\n"
     ]
    }
   ],
   "source": [
    "for min_id, min_data in list(min_full_dict.items()):\n",
    "    print(min_id)\n",
    "    print(min_data)\n",
    "    break"
   ]
  },
  {
   "cell_type": "markdown",
   "metadata": {},
   "source": [
    "we now create a dataset using mineral_98"
   ]
  },
  {
   "cell_type": "code",
   "execution_count": 9,
   "metadata": {
    "ExecuteTime": {
     "end_time": "2024-10-20T23:50:40.481303900Z",
     "start_time": "2024-10-20T23:50:40.437555300Z"
    }
   },
   "outputs": [],
   "source": [
    "min_98_df = pd.read_csv(\"../data/original-mineralimage5K/minerals_98.csv\")\n"
   ]
  },
  {
   "cell_type": "code",
   "execution_count": 10,
   "metadata": {
    "ExecuteTime": {
     "end_time": "2024-10-20T23:50:45.646509500Z",
     "start_time": "2024-10-20T23:50:45.641508300Z"
    }
   },
   "outputs": [
    {
     "data": {
      "text/plain": [
       "{'path': 'data/1_syst/00000/1_10/1_10.jpg',\n",
       " 'name': 'graphite',\n",
       " 'variety': nan,\n",
       " 'description': 'grained graphite. sample size 5.5 x 3.5 x 2 cm',\n",
       " 'text_boxes': '[[[0.25781, 0.59238], [0.29785, 0.61584]], [[0.24805, 0.6217], [0.2666, 0.6393]]]',\n",
       " 'mineral_boxes': '[{\"label\": \"a rock\", \"confidence\": 0.268, \"box\": [0.36035, 0.31818, 0.6709, 0.69062]}, {\"label\": \"a mineral\", \"confidence\": 0.1, \"box\": [0.3623, 0.31672, 0.6709, 0.68328]}]'}"
      ]
     },
     "execution_count": 10,
     "metadata": {},
     "output_type": "execute_result"
    }
   ],
   "source": [
    "ids = min_98_df['id'].values\n",
    "min_full_dict[ids[0]]"
   ]
  },
  {
   "cell_type": "code",
   "execution_count": 12,
   "metadata": {
    "ExecuteTime": {
     "end_time": "2024-10-21T00:03:36.799013300Z",
     "start_time": "2024-10-21T00:03:36.796971600Z"
    },
    "collapsed": false
   },
   "outputs": [],
   "source": [
    "def data_generator():\n",
    "    for id in ids:\n",
    "        try:\n",
    "            path = os.path.join('../data/original-mineralimage5K/', min_full_dict[id]['path'])\n",
    "            image = Image.open(path).convert('RGB')\n",
    "        except FileNotFoundError:\n",
    "            print(f\"File not found for id {id} at path {path}\")\n",
    "            continue\n",
    "\n",
    "        yield {\n",
    "            \"image\": image,\n",
    "            \"name\": min_full_dict[id]['name'],\n",
    "            \"description\": min_full_dict[id]['description'],\n",
    "            \"mineral_boxes\": min_full_dict[id]['mineral_boxes']\n",
    "        }"
   ]
  },
  {
   "cell_type": "code",
   "execution_count": 15,
   "metadata": {
    "collapsed": false
   },
   "outputs": [],
   "source": [
    "from datasets import IterableDataset\n",
    "ds_98 = IterableDataset.from_generator(data_generator)"
   ]
  },
  {
   "cell_type": "code",
   "execution_count": 16,
   "metadata": {
    "ExecuteTime": {
     "end_time": "2024-10-21T00:07:51.123735500Z",
     "start_time": "2024-10-21T00:07:50.956737Z"
    },
    "collapsed": false
   },
   "outputs": [
    {
     "ename": "AttributeError",
     "evalue": "'IterableDataset' object has no attribute 'push_to_hub'",
     "output_type": "error",
     "traceback": [
      "\u001B[1;31m---------------------------------------------------------------------------\u001B[0m",
      "\u001B[1;31mAttributeError\u001B[0m                            Traceback (most recent call last)",
      "Cell \u001B[1;32mIn[16], line 1\u001B[0m\n\u001B[1;32m----> 1\u001B[0m ds_98\u001B[38;5;241m.\u001B[39mpush_to_hub(\u001B[38;5;124m'\u001B[39m\u001B[38;5;124mNech-C/mineral_98\u001B[39m\u001B[38;5;124m'\u001B[39m)\n",
      "\u001B[1;31mAttributeError\u001B[0m: 'IterableDataset' object has no attribute 'push_to_hub'"
     ]
    }
   ],
   "source": [
    "ds_98.push_to_hub('Nech-C/mineral_98')"
   ]
  },
  {
   "cell_type": "code",
   "execution_count": 16,
   "metadata": {},
   "outputs": [
    {
     "data": {
      "text/plain": [
       "23496"
      ]
     },
     "execution_count": 16,
     "metadata": {},
     "output_type": "execute_result"
    }
   ],
   "source": [
    "len(ids)"
   ]
  },
  {
   "cell_type": "code",
   "execution_count": null,
   "metadata": {
    "ExecuteTime": {
     "end_time": "2024-10-21T00:47:22.779165900Z",
     "start_time": "2024-10-21T00:47:21.868399Z"
    }
   },
   "outputs": [],
   "source": [
    "from PIL import Image\n",
    "min_98  = {\n",
    "    'image': [],\n",
    "    'name': [],\n",
    "    'description': [],\n",
    "    'mineral_boxes': [],\n",
    "}\n",
    "\n",
    "for id in ids[:1000]:\n",
    "    try:\n",
    "        path = os.path.join('../data/original-mineralimage5K/', min_full_dict[id]['path'])\n",
    "        image = Image.open(path).convert('RGB')\n",
    "    except FileNotFoundError:\n",
    "        print(f\"File not found for id {id} at path {path}\")\n",
    "        continue\n",
    "    min_98['image'].append(image)\n",
    "    min_98['name'].append(min_full_dict[id]['name'])\n",
    "    min_98['description'].append(min_full_dict[id]['description'])\n",
    "    min_98['mineral_boxes'].append(min_full_dict[id]['mineral_boxes'])"
   ]
  },
  {
   "cell_type": "code",
   "execution_count": 14,
   "metadata": {
    "ExecuteTime": {
     "end_time": "2024-10-21T00:48:57.993349200Z",
     "start_time": "2024-10-21T00:48:57.987338500Z"
    },
    "collapsed": false
   },
   "outputs": [
    {
     "data": {
      "text/plain": [
       "5600"
      ]
     },
     "execution_count": 14,
     "metadata": {},
     "output_type": "execute_result"
    }
   ],
   "source": [
    "import sys\n",
    "total_size = 0\n",
    "for image in min_98['image']:\n",
    "    total_size += sys.getsizeof(image)\n",
    "\n",
    "total_size"
   ]
  },
  {
   "cell_type": "code",
   "execution_count": 1,
   "metadata": {
    "ExecuteTime": {
     "end_time": "2024-10-20T23:35:43.838327700Z",
     "start_time": "2024-10-20T23:35:43.236308800Z"
    },
    "collapsed": false
   },
   "outputs": [
    {
     "ename": "ModuleNotFoundError",
     "evalue": "No module named 'datasets'",
     "output_type": "error",
     "traceback": [
      "\u001B[1;31m---------------------------------------------------------------------------\u001B[0m",
      "\u001B[1;31mModuleNotFoundError\u001B[0m                       Traceback (most recent call last)",
      "Cell \u001B[1;32mIn[1], line 1\u001B[0m\n\u001B[1;32m----> 1\u001B[0m \u001B[38;5;28;01mfrom\u001B[39;00m \u001B[38;5;21;01mdatasets\u001B[39;00m \u001B[38;5;28;01mimport\u001B[39;00m Dataset\n",
      "\u001B[1;31mModuleNotFoundError\u001B[0m: No module named 'datasets'"
     ]
    }
   ],
   "source": [
    "from datasets import Dataset\n",
    "min_98_dataset = Dataset.from_dict(min_98)"
   ]
  }
 ],
 "metadata": {
  "kernelspec": {
   "display_name": "rock-dataset",
   "language": "python",
   "name": "python3"
  },
  "language_info": {
   "codemirror_mode": {
    "name": "ipython",
    "version": 3
   },
   "file_extension": ".py",
   "mimetype": "text/x-python",
   "name": "python",
   "nbconvert_exporter": "python",
   "pygments_lexer": "ipython3",
   "version": "3.11.9"
  }
 },
 "nbformat": 4,
 "nbformat_minor": 2
}
