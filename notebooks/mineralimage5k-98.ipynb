{
 "cells": [
  {
   "cell_type": "code",
   "execution_count": 11,
   "metadata": {},
   "outputs": [],
   "source": [
    "import pandas as pd\n",
    "import os\n",
    "\n",
    "original_csv_path = \"../data/original-mineralimage5K/minerals_full.csv\""
   ]
  },
  {
   "cell_type": "code",
   "execution_count": null,
   "metadata": {},
   "outputs": [],
   "source": [
    "df = pd.read_csv(original_csv_path)"
   ]
  },
  {
   "cell_type": "code",
   "execution_count": 25,
   "metadata": {},
   "outputs": [
    {
     "name": "stdout",
     "output_type": "stream",
     "text": [
      "Type analysis for column 'en_variety':\n",
      "  str: 4\n",
      "\n",
      "Example string values:\n",
      "  viluit\n",
      "  kleiophane\n",
      "  kleiophane\n",
      "  adular\n"
     ]
    }
   ],
   "source": [
    "import pandas as pd\n",
    "from collections import Counter\n",
    "import ast\n",
    "\n",
    "def analyze_column_types(df, column_name, sample_size=100):\n",
    "    # Get the column\n",
    "    column = df[column_name]\n",
    "    \n",
    "    # Take a sample if the column is large\n",
    "    if len(column) > sample_size:\n",
    "        sample = column.sample(sample_size, random_state=42)\n",
    "    else:\n",
    "        sample = column\n",
    "    \n",
    "    # Function to safely evaluate strings that might be Python literals\n",
    "    def safe_eval(val):\n",
    "        try:\n",
    "            return ast.literal_eval(val)\n",
    "        except:\n",
    "            return val\n",
    "\n",
    "    # Analyze types\n",
    "    type_counts = Counter(type(safe_eval(val)).__name__ for val in sample if pd.notna(val))\n",
    "    \n",
    "    print(f\"Type analysis for column '{column_name}':\")\n",
    "    for type_name, count in type_counts.items():\n",
    "        print(f\"  {type_name}: {count}\")\n",
    "    \n",
    "    # If we find strings, let's check if they might be JSON or list-like\n",
    "    if 'str' in type_counts:\n",
    "        str_sample = [val for val in sample if isinstance(val, str)][:5]\n",
    "        print(\"\\nExample string values:\")\n",
    "        for val in str_sample:\n",
    "            print(f\"  {val[:50]}...\" if len(val) > 50 else f\"  {val}\")\n",
    "        \n",
    "        # Check if strings might be JSON or list-like\n",
    "        json_like = any(val.strip().startswith(('[', '{')) for val in str_sample)\n",
    "        if json_like:\n",
    "            print(\"\\nNote: Some string values appear to be JSON or list-like. \"\n",
    "                  \"You may want to parse these.\")\n",
    "\n",
    "# Usage\n",
    "# Assuming df is your DataFrame\n",
    "analyze_column_types(df, 'en_variety')"
   ]
  },
  {
   "cell_type": "code",
   "execution_count": 23,
   "metadata": {},
   "outputs": [
    {
     "name": "stdout",
     "output_type": "stream",
     "text": [
      "<class 'pandas.core.frame.DataFrame'>\n",
      "RangeIndex: 44784 entries, 0 to 44783\n",
      "Data columns (total 15 columns):\n",
      " #   Column           Non-Null Count  Dtype \n",
      "---  ------           --------------  ----- \n",
      " 0   id               44784 non-null  object\n",
      " 1   path             44784 non-null  object\n",
      " 2   height           44784 non-null  int64 \n",
      " 3   width            44784 non-null  int64 \n",
      " 4   ru_name          44784 non-null  object\n",
      " 5   ru_synonim_name  44784 non-null  object\n",
      " 6   ru_variety       12997 non-null  object\n",
      " 7   ru_satellites    13791 non-null  object\n",
      " 8   ru_description   21248 non-null  object\n",
      " 9   en_name          44784 non-null  object\n",
      " 10  en_variety       339 non-null    object\n",
      " 11  en_satellites    5325 non-null   object\n",
      " 12  en_description   21247 non-null  object\n",
      " 13  text_boxes       44784 non-null  object\n",
      " 14  mineral_boxes    44784 non-null  object\n",
      "dtypes: int64(2), object(13)\n",
      "memory usage: 5.1+ MB\n"
     ]
    }
   ],
   "source": [
    "df['en_variety']"
   ]
  },
  {
   "cell_type": "code",
   "execution_count": 12,
   "metadata": {},
   "outputs": [],
   "source": [
    "\n",
    "min_full_dict = dict()\n",
    "\n",
    "for _, row in df.iterrows():\n",
    "    min_id = row['id']\n",
    "    path = row['path']\n",
    "    min_en_name = row['en_name']\n",
    "    min_en_var = row['en_variety']\n",
    "    min_en_description = row['en_description']\n",
    "    text_boxes = row['text_boxes']\n",
    "    min_boxes = row['mineral_boxes']\n",
    "\n",
    "    \n",
    "    min_full_dict[min_id] = {\n",
    "        'path': path,\n",
    "        'name': min_en_name,\n",
    "        'variety': min_en_var,\n",
    "        'description': min_en_description,\n",
    "        'text_boxes': text_boxes,\n",
    "        'mineral_boxes': min_boxes\n",
    "    }\n",
    "    \n",
    "    \n",
    "    \n",
    "    "
   ]
  },
  {
   "cell_type": "code",
   "execution_count": 13,
   "metadata": {},
   "outputs": [
    {
     "name": "stdout",
     "output_type": "stream",
     "text": [
      "10_1\n",
      "{'path': 'data/10_meteor/10_1/FMM_10_1.jpg', 'name': 'meteorite kunya-urgench', 'variety': nan, 'description': 'a fragment weighing 80.4 grams of kunya-urgench stony chondrite with 20-25% metal phases. dropped on june 20, 1998.', 'text_boxes': '[[[0.74316, 0.6229], [0.81641, 0.66565]], [[0.72266, 0.67023], [0.83398, 0.70534]]]', 'mineral_boxes': '[{\"label\": \"a rock\", \"confidence\": 0.326, \"box\": [0.17871, 0.24733, 0.64941, 0.78473]}]'}\n"
     ]
    }
   ],
   "source": [
    "for min_id, min_data in list(min_full_dict.items()):\n",
    "    print(min_id)\n",
    "    print(min_data)\n",
    "    break"
   ]
  },
  {
   "cell_type": "markdown",
   "metadata": {},
   "source": [
    "we now create a dataset using mineral_98"
   ]
  },
  {
   "cell_type": "code",
   "execution_count": 14,
   "metadata": {},
   "outputs": [],
   "source": [
    "min_98_df = pd.read_csv(\"../data/original-mineralimage5K/minerals_98.csv\")\n"
   ]
  },
  {
   "cell_type": "code",
   "execution_count": 18,
   "metadata": {},
   "outputs": [
    {
     "data": {
      "text/plain": [
       "{'path': 'data/1_syst/00000/1_10/1_10.jpg',\n",
       " 'name': 'graphite',\n",
       " 'variety': nan,\n",
       " 'description': 'grained graphite. sample size 5.5 x 3.5 x 2 cm',\n",
       " 'text_boxes': '[[[0.25781, 0.59238], [0.29785, 0.61584]], [[0.24805, 0.6217], [0.2666, 0.6393]]]',\n",
       " 'mineral_boxes': '[{\"label\": \"a rock\", \"confidence\": 0.268, \"box\": [0.36035, 0.31818, 0.6709, 0.69062]}, {\"label\": \"a mineral\", \"confidence\": 0.1, \"box\": [0.3623, 0.31672, 0.6709, 0.68328]}]'}"
      ]
     },
     "execution_count": 18,
     "metadata": {},
     "output_type": "execute_result"
    }
   ],
   "source": [
    "ids = min_98_df['id'].values\n",
    "min_full_dict[ids[0]]"
   ]
  },
  {
   "cell_type": "code",
   "execution_count": 26,
   "metadata": {},
   "outputs": [
    {
     "name": "stdout",
     "output_type": "stream",
     "text": [
      "File not found for id 1_12052 at path ../data/original-mineralimage5K/data/1_syst/10000/1_12052/1_12052_gypsum_w.JPG\n",
      "File not found for id 1_12149 at path ../data/original-mineralimage5K/data/1_syst/10000/1_12149/1_12149.jpg\n",
      "File not found for id 1_15430 at path ../data/original-mineralimage5K/data/1_syst/10000/1_15430/1_15430_gypsum_w.JPG\n",
      "File not found for id 1_15876 at path ../data/original-mineralimage5K/data/1_syst/10000/1_15876/1_15876_gypsum_w.JPG\n",
      "File not found for id 1_16705 at path ../data/original-mineralimage5K/data/1_syst/10000/1_16705/1_16705_1_gold_w.jpg\n",
      "File not found for id 1_17760 at path ../data/original-mineralimage5K/data/1_syst/10000/1_17760/1_17760_beryl_NM_w.jpg\n",
      "File not found for id 1_17763 at path ../data/original-mineralimage5K/data/1_syst/10000/1_17763/1_17763_beryl_NM_w.jpg\n",
      "File not found for id 1_17906 at path ../data/original-mineralimage5K/data/1_syst/10000/1_17906/1_17906_NM_w.jpg\n",
      "File not found for id 1_17907 at path ../data/original-mineralimage5K/data/1_syst/10000/1_17907/1_17907_NM_w.jpg\n",
      "File not found for id 1_17908 at path ../data/original-mineralimage5K/data/1_syst/10000/1_17908/1_17908_NM_w.jpg\n",
      "File not found for id 1_17910 at path ../data/original-mineralimage5K/data/1_syst/10000/1_17910/1_17910_NM_w.jpg\n",
      "File not found for id 1_17911 at path ../data/original-mineralimage5K/data/1_syst/10000/1_17911/1_17911_NM_w.jpg\n",
      "File not found for id 1_17934 at path ../data/original-mineralimage5K/data/1_syst/10000/1_17934/1_17934_euchroite_NM.jpg\n",
      "File not found for id 1_19039 at path ../data/original-mineralimage5K/data/1_syst/10000/1_19039/1_19039_gypsum_w.JPG\n",
      "File not found for id 1_20888 at path ../data/original-mineralimage5K/data/1_syst/20000/1_20888/1_20888.jpg\n",
      "File not found for id 1_21506 at path ../data/original-mineralimage5K/data/1_syst/20000/1_21506/1_21506_1_gold_w.jpg\n",
      "File not found for id 1_22248 at path ../data/original-mineralimage5K/data/1_syst/20000/1_22248/1_22248_1.jpg\n",
      "File not found for id 1_22280 at path ../data/original-mineralimage5K/data/1_syst/20000/1_22280/1_22280_1_w.jpg\n",
      "File not found for id 1_23097 at path ../data/original-mineralimage5K/data/1_syst/20000/1_23097/1_23097_1_gold.jpg\n",
      "File not found for id 1_24042 at path ../data/original-mineralimage5K/data/1_syst/20000/1_24042/1_24042_1_Beryl.jpg\n",
      "File not found for id 1_24604 at path ../data/original-mineralimage5K/data/1_syst/20000/1_24604/1_24604_2.jpg\n",
      "File not found for id 1_25045 at path ../data/original-mineralimage5K/data/1_syst/20000/1_25045/1_25045_1_w.jpg\n",
      "File not found for id 1_25657 at path ../data/original-mineralimage5K/data/1_syst/20000/1_25657/1_25657_zircon_db_w.JPG\n",
      "File not found for id 1_26182 at path ../data/original-mineralimage5K/data/1_syst/20000/1_26182/1_26182F_IMGP0383_w.jpg\n",
      "File not found for id 1_26344 at path ../data/original-mineralimage5K/data/1_syst/20000/1_26344/1_26344_1.jpg\n",
      "File not found for id 1_27228 at path ../data/original-mineralimage5K/data/1_syst/20000/1_27228/1_27228.jpg\n",
      "File not found for id 1_27394 at path ../data/original-mineralimage5K/data/1_syst/20000/1_27394/1_27394_barite_NM_w.jpg\n",
      "File not found for id 1_27397 at path ../data/original-mineralimage5K/data/1_syst/20000/1_27397/1_27397_barite_NM_w.jpg\n",
      "File not found for id 1_27398 at path ../data/original-mineralimage5K/data/1_syst/20000/1_27398/1_27398_scheelite_NM_w.jpg\n",
      "File not found for id 1_27400 at path ../data/original-mineralimage5K/data/1_syst/20000/1_27400/1_27400_scheelite_NM_w.jpg\n",
      "File not found for id 1_27427 at path ../data/original-mineralimage5K/data/1_syst/20000/1_27427/1_27427_gypsum_NM_w.jpg\n",
      "File not found for id 1_27428 at path ../data/original-mineralimage5K/data/1_syst/20000/1_27428/1_27428_gypsum_NM_w.jpg\n",
      "File not found for id 1_27710 at path ../data/original-mineralimage5K/data/1_syst/20000/1_27710/1_27710_1_w.jpg\n",
      "File not found for id 1_28397 at path ../data/original-mineralimage5K/data/1_syst/20000/1_28397/1_28397_1_w.jpg\n",
      "File not found for id 1_29303 at path ../data/original-mineralimage5K/data/1_syst/20000/1_29303/1_29303_gypsum_w.JPG\n",
      "File not found for id 1_29379 at path ../data/original-mineralimage5K/data/1_syst/20000/1_29379/1_29379_gypsum_w.JPG\n",
      "File not found for id 1_29926 at path ../data/original-mineralimage5K/data/1_syst/20000/1_29926/1_29926_1_Quartz_w.jpg\n",
      "File not found for id 1_30237 at path ../data/original-mineralimage5K/data/1_syst/30000/1_30237/1_30237.jpg\n",
      "File not found for id 1_30389 at path ../data/original-mineralimage5K/data/1_syst/30000/1_30389/1_30389_1_Hematite.jpg\n",
      "File not found for id 1_30932 at path ../data/original-mineralimage5K/data/1_syst/30000/1_30932/1_30932.jpg\n",
      "File not found for id 1_31105 at path ../data/original-mineralimage5K/data/1_syst/30000/1_31105/1_31105_gypsum_2.JPG\n",
      "File not found for id 1_31107 at path ../data/original-mineralimage5K/data/1_syst/30000/1_31107/1_31107_gypsum_w.JPG\n",
      "File not found for id 1_31217 at path ../data/original-mineralimage5K/data/1_syst/30000/1_31217/1_31217_1.JPG\n",
      "File not found for id 1_31261 at path ../data/original-mineralimage5K/data/1_syst/30000/1_31261/1_31261_1_topaz.JPG\n",
      "File not found for id 1_31262 at path ../data/original-mineralimage5K/data/1_syst/30000/1_31262/1_31262_1_topaz_w.jpg\n",
      "File not found for id 1_31266 at path ../data/original-mineralimage5K/data/1_syst/30000/1_31266/1_31266_1_topaz.JPG\n",
      "File not found for id 1_31269 at path ../data/original-mineralimage5K/data/1_syst/30000/1_31269/1_31269_1_topaz_w.jpg\n",
      "File not found for id 1_31279 at path ../data/original-mineralimage5K/data/1_syst/30000/1_31279/1_31279_1_topaz_w.JPG\n",
      "File not found for id 1_31296 at path ../data/original-mineralimage5K/data/1_syst/30000/1_31296/1_31296_1_topaz_w.jpg\n",
      "File not found for id 1_31302 at path ../data/original-mineralimage5K/data/1_syst/30000/1_31302/1_31302_1_topaz_w.jpg\n",
      "File not found for id 1_31317 at path ../data/original-mineralimage5K/data/1_syst/30000/1_31317/1_31317_2_topaz.JPG\n",
      "File not found for id 1_31338 at path ../data/original-mineralimage5K/data/1_syst/30000/1_31338/1_31338_2_topaz_w.JPG\n",
      "File not found for id 1_31641 at path ../data/original-mineralimage5K/data/1_syst/30000/1_31641/1_31641.jpg\n",
      "File not found for id 1_32073 at path ../data/original-mineralimage5K/data/1_syst/30000/1_32073/1_32073_gypsum-w.JPG\n",
      "File not found for id 1_32171 at path ../data/original-mineralimage5K/data/1_syst/30000/1_32171/1_32171_11_w.JPG\n",
      "File not found for id 1_32202 at path ../data/original-mineralimage5K/data/1_syst/30000/1_32202/1_32202_1.JPG\n",
      "File not found for id 1_32435 at path ../data/original-mineralimage5K/data/1_syst/30000/1_32435/1_32435_1_gold_w.jpg\n",
      "File not found for id 1_32441 at path ../data/original-mineralimage5K/data/1_syst/30000/1_32441/1_32441_1_gold_w.jpg\n",
      "File not found for id 1_32450 at path ../data/original-mineralimage5K/data/1_syst/30000/1_32450/1_32450_1_gold_w.jpg\n",
      "File not found for id 1_33370 at path ../data/original-mineralimage5K/data/1_syst/30000/1_33370/1_33370_aqua_w.JPG\n",
      "File not found for id 1_33441 at path ../data/original-mineralimage5K/data/1_syst/30000/1_33441/1_33441_1_gold_w.jpg\n",
      "File not found for id 1_33533 at path ../data/original-mineralimage5K/data/1_syst/30000/1_33533/1_33533_11_w.jpg\n",
      "File not found for id 1_33924 at path ../data/original-mineralimage5K/data/1_syst/30000/1_33924/1_33924_1_w.jpg\n",
      "File not found for id 1_36065 at path ../data/original-mineralimage5K/data/1_syst/30000/1_36065/1_36065_cassiterite_Франция, Люнбелла_w.JPG\n",
      "File not found for id 1_36426 at path ../data/original-mineralimage5K/data/1_syst/30000/1_36426/1_36426_gypsum_w.JPG\n",
      "File not found for id 1_37029 at path ../data/original-mineralimage5K/data/1_syst/30000/1_37029/1_37029_gypsum_1.JPG\n",
      "File not found for id 1_37031 at path ../data/original-mineralimage5K/data/1_syst/30000/1_37031/1_37031_gypsum_1.JPG\n",
      "File not found for id 1_37034 at path ../data/original-mineralimage5K/data/1_syst/30000/1_37034/1_37034_gypsum_w.JPG\n",
      "File not found for id 1_37129 at path ../data/original-mineralimage5K/data/1_syst/30000/1_37129/1_37129_1.JPG\n",
      "File not found for id 1_37149 at path ../data/original-mineralimage5K/data/1_syst/30000/1_37149/1_37149_1.JPG\n",
      "File not found for id 1_37441 at path ../data/original-mineralimage5K/data/1_syst/30000/1_37441/1_37441_1.jpg\n",
      "File not found for id 1_37459 at path ../data/original-mineralimage5K/data/1_syst/30000/1_37459/1_37459_2_w.jpg\n",
      "File not found for id 1_37479 at path ../data/original-mineralimage5K/data/1_syst/30000/1_37479/1_37479_2_w.jpg\n",
      "File not found for id 1_37614 at path ../data/original-mineralimage5K/data/1_syst/30000/1_37614/1_37614_1_w.jpg\n",
      "File not found for id 1_37825 at path ../data/original-mineralimage5K/data/1_syst/30000/1_37825/1_37825_1.JPG\n",
      "File not found for id 1_38534 at path ../data/original-mineralimage5K/data/1_syst/30000/1_38534/1_38534_1_w.jpg\n",
      "File not found for id 1_39080 at path ../data/original-mineralimage5K/data/1_syst/30000/1_39080/1_39080_2.jpg\n",
      "File not found for id 1_33121 at path ../data/original-mineralimage5K/data/1_syst/30000/Проверить/Плохое фото/1_33121 Плохое фото/1_33121_1.jpg\n",
      "File not found for id 1_31204 at path ../data/original-mineralimage5K/data/1_syst/30000/Ранее сделанные/1_31204/1_31204_1_beryl.JPG\n",
      "File not found for id 1_31208 at path ../data/original-mineralimage5K/data/1_syst/30000/Ранее сделанные/1_31208/1_31208_1_Beryl.JPG\n",
      "File not found for id 1_31301 at path ../data/original-mineralimage5K/data/1_syst/30000/Ранее сделанные/1_31301/1_31301_1_topaz.JPG\n",
      "File not found for id 1_31314 at path ../data/original-mineralimage5K/data/1_syst/30000/Ранее сделанные/1_31314/1_31314_1_topaz.JPG\n",
      "File not found for id 1_31315 at path ../data/original-mineralimage5K/data/1_syst/30000/Ранее сделанные/1_31315/1_31315_1_topaz.JPG\n",
      "File not found for id 1_31326 at path ../data/original-mineralimage5K/data/1_syst/30000/Ранее сделанные/1_31326/1_31326_1_topaz.JPG\n",
      "File not found for id 1_32143 at path ../data/original-mineralimage5K/data/1_syst/30000/Ранее сделанные/1_32143/1_32143_1_topaz.JPG\n",
      "File not found for id 1_32247 at path ../data/original-mineralimage5K/data/1_syst/30000/Ранее сделанные/1_32247/1_32247_1_beryl.JPG\n",
      "File not found for id 1_35262 at path ../data/original-mineralimage5K/data/1_syst/30000/Ранее сделанные/1_35262/1_35262F_в исторические м.б. или в кристаллы-гиганты.jpg\n",
      "File not found for id 1_41769 at path ../data/original-mineralimage5K/data/1_syst/40000/1_41769/1_41769_1_w.jpg\n",
      "File not found for id 1_42865 at path ../data/original-mineralimage5K/data/1_syst/40000/1_42865/1_42865_1_w.jpg\n",
      "File not found for id 1_43415 at path ../data/original-mineralimage5K/data/1_syst/40000/1_43415/1_43415_1_w.jpg\n",
      "File not found for id 1_45938 at path ../data/original-mineralimage5K/data/1_syst/40000/1_45938/1_45938_NM_w.jpg\n",
      "File not found for id 1_46020 at path ../data/original-mineralimage5K/data/1_syst/40000/1_46020/1_46020_1_gold_w.jpg\n",
      "File not found for id 1_50580 at path ../data/original-mineralimage5K/data/1_syst/50000/1_50580/1_50580F_IMGP0572в кристаллы-гиганты.jpg\n",
      "File not found for id 1_51183 at path ../data/original-mineralimage5K/data/1_syst/50000/1_51183/1_51183_1.jpg\n",
      "File not found for id 1_51251 at path ../data/original-mineralimage5K/data/1_syst/50000/1_51251/1_51251.jpg\n",
      "File not found for id 1_52879 at path ../data/original-mineralimage5K/data/1_syst/50000/1_52879/1_52879_gypsum_w.JPG\n",
      "File not found for id 1_52880 at path ../data/original-mineralimage5K/data/1_syst/50000/1_52880/1_52880_gypsum_w.JPG\n",
      "File not found for id 1_52881 at path ../data/original-mineralimage5K/data/1_syst/50000/1_52881/1_52881_gypsum_w.JPG\n",
      "File not found for id 1_52882 at path ../data/original-mineralimage5K/data/1_syst/50000/1_52882/1_52882_gypsum_2.JPG\n",
      "File not found for id 1_54960 at path ../data/original-mineralimage5K/data/1_syst/50000/1_54960/1_54960_gypsum_2.JPG\n",
      "File not found for id 1_55016 at path ../data/original-mineralimage5K/data/1_syst/50000/1_55016/1_55016_1.jpg\n",
      "File not found for id 1_55244 at path ../data/original-mineralimage5K/data/1_syst/50000/1_55244/1_55244_gypsum_w.JPG\n",
      "File not found for id 1_55257 at path ../data/original-mineralimage5K/data/1_syst/50000/1_55257/1_55257_1_w.jpg\n",
      "File not found for id 1_55374 at path ../data/original-mineralimage5K/data/1_syst/50000/1_55374/1_55374_1_w.jpg\n",
      "File not found for id 1_56544 at path ../data/original-mineralimage5K/data/1_syst/50000/1_56544/1_56544F_IMGP0468_w.jpg\n",
      "File not found for id 1_56981 at path ../data/original-mineralimage5K/data/1_syst/50000/1_56981/1_56981_gypsum_w.JPG\n",
      "File not found for id 1_57393 at path ../data/original-mineralimage5K/data/1_syst/50000/1_57393/1_57393_1_w.jpg\n",
      "File not found for id 1_58726 at path ../data/original-mineralimage5K/data/1_syst/50000/1_58726/1_58726_gypsum_w.JPG\n",
      "File not found for id 1_61209 at path ../data/original-mineralimage5K/data/1_syst/60000/1_61209/1_61209_gypsum.JPG\n",
      "File not found for id 1_61236 at path ../data/original-mineralimage5K/data/1_syst/60000/1_61236/1_61236.jpg\n",
      "File not found for id 1_61784 at path ../data/original-mineralimage5K/data/1_syst/60000/1_61784/1_61784_1.JPG\n",
      "File not found for id 1_62431 at path ../data/original-mineralimage5K/data/1_syst/60000/1_62431/1_62431_gypsum.JPG\n",
      "File not found for id 1_62977 at path ../data/original-mineralimage5K/data/1_syst/60000/1_62977/1_62977_1.JPG\n",
      "File not found for id 1_62982 at path ../data/original-mineralimage5K/data/1_syst/60000/1_62982/1_62982_gypsum.JPG\n",
      "File not found for id 1_63376 at path ../data/original-mineralimage5K/data/1_syst/60000/1_63376/1_63376F_IMGP0339.jpg\n",
      "File not found for id 1_63816 at path ../data/original-mineralimage5K/data/1_syst/60000/1_63816/1_63816_gypsum_1.JPG\n",
      "File not found for id 1_64547 at path ../data/original-mineralimage5K/data/1_syst/60000/1_64547/1_64547_1.jpg\n",
      "File not found for id 1_66695 at path ../data/original-mineralimage5K/data/1_syst/60000/1_66695/1_66695_1.jpg\n",
      "File not found for id 1_67988 at path ../data/original-mineralimage5K/data/1_syst/60000/1_67988/1_67988_1_Fluorite.jpg\n",
      "File not found for id 1_68193 at path ../data/original-mineralimage5K/data/1_syst/60000/1_68193/1_68193_1.JPG\n",
      "File not found for id 1_68533 at path ../data/original-mineralimage5K/data/1_syst/60000/1_68533/1_68533_1.JPG\n"
     ]
    }
   ],
   "source": [
    "from PIL import Image\n",
    "min_98  = {\n",
    "    'image': [],\n",
    "    'name': [],\n",
    "    'description': [],\n",
    "    'mineral_boxes': [],\n",
    "}\n",
    "\n",
    "for id in ids:\n",
    "    try:\n",
    "        path = os.path.join('../data/original-mineralimage5K/', min_full_dict[id]['path'])\n",
    "        image = Image.open(path).convert('RGB')\n",
    "    except FileNotFoundError:\n",
    "        print(f\"File not found for id {id} at path {path}\")\n",
    "        continue\n",
    "    min_98['image'].append(image)\n",
    "    min_98['name'].append(min_full_dict[id]['name'])\n",
    "    min_98['description'].append(min_full_dict[id]['description'])\n",
    "    min_98['mineral_boxes'].append(min_full_dict[id]['mineral_boxes'])"
   ]
  }
 ],
 "metadata": {
  "kernelspec": {
   "display_name": "rock-dataset",
   "language": "python",
   "name": "python3"
  },
  "language_info": {
   "codemirror_mode": {
    "name": "ipython",
    "version": 3
   },
   "file_extension": ".py",
   "mimetype": "text/x-python",
   "name": "python",
   "nbconvert_exporter": "python",
   "pygments_lexer": "ipython3",
   "version": "3.11.9"
  }
 },
 "nbformat": 4,
 "nbformat_minor": 2
}
