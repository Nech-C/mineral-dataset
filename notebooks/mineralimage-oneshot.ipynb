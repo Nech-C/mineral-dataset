{
 "cells": [
  {
   "cell_type": "code",
   "execution_count": 1,
   "metadata": {},
   "outputs": [],
   "source": [
    "import pandas as pd\n",
    "import os\n",
    "\n",
    "original_csv_path = \"../data/original-mineralimage5K/minerals_full.csv\"\n",
    "\n",
    "df = pd.read_csv(original_csv_path)"
   ]
  },
  {
   "cell_type": "code",
   "execution_count": 3,
   "metadata": {},
   "outputs": [
    {
     "name": "stdout",
     "output_type": "stream",
     "text": [
      "<class 'pandas.core.frame.DataFrame'>\n",
      "RangeIndex: 44784 entries, 0 to 44783\n",
      "Data columns (total 15 columns):\n",
      " #   Column           Non-Null Count  Dtype \n",
      "---  ------           --------------  ----- \n",
      " 0   id               44784 non-null  object\n",
      " 1   path             44784 non-null  object\n",
      " 2   height           44784 non-null  int64 \n",
      " 3   width            44784 non-null  int64 \n",
      " 4   ru_name          44784 non-null  object\n",
      " 5   ru_synonim_name  44784 non-null  object\n",
      " 6   ru_variety       12997 non-null  object\n",
      " 7   ru_satellites    13791 non-null  object\n",
      " 8   ru_description   21248 non-null  object\n",
      " 9   en_name          44784 non-null  object\n",
      " 10  en_variety       339 non-null    object\n",
      " 11  en_satellites    5325 non-null   object\n",
      " 12  en_description   21247 non-null  object\n",
      " 13  text_boxes       44784 non-null  object\n",
      " 14  mineral_boxes    44784 non-null  object\n",
      "dtypes: int64(2), object(13)\n",
      "memory usage: 5.1+ MB\n"
     ]
    }
   ],
   "source": [
    "df.info()"
   ]
  },
  {
   "cell_type": "code",
   "execution_count": 5,
   "metadata": {},
   "outputs": [
    {
     "name": "stdout",
     "output_type": "stream",
     "text": [
      "<class 'pandas.core.frame.DataFrame'>\n",
      "RangeIndex: 44784 entries, 0 to 44783\n",
      "Data columns (total 15 columns):\n",
      " #   Column           Non-Null Count  Dtype \n",
      "---  ------           --------------  ----- \n",
      " 0   id               44784 non-null  object\n",
      " 1   path             44784 non-null  object\n",
      " 2   height           44784 non-null  int64 \n",
      " 3   width            44784 non-null  int64 \n",
      " 4   ru_name          44784 non-null  object\n",
      " 5   ru_synonim_name  44784 non-null  object\n",
      " 6   ru_variety       12997 non-null  object\n",
      " 7   ru_satellites    13791 non-null  object\n",
      " 8   ru_description   21248 non-null  object\n",
      " 9   en_name          44784 non-null  object\n",
      " 10  en_variety       44784 non-null  object\n",
      " 11  en_satellites    5325 non-null   object\n",
      " 12  en_description   21247 non-null  object\n",
      " 13  text_boxes       44784 non-null  object\n",
      " 14  mineral_boxes    44784 non-null  object\n",
      "dtypes: int64(2), object(13)\n",
      "memory usage: 5.1+ MB\n"
     ]
    }
   ],
   "source": [
    "df['en_variety'] = df['en_variety'].fillna('')\n",
    "df.info()"
   ]
  },
  {
   "cell_type": "code",
   "execution_count": 30,
   "metadata": {},
   "outputs": [
    {
     "data": {
      "text/plain": [
       "65          quartz\n",
       "68         calcite\n",
       "69         calcite\n",
       "79        goethite\n",
       "181         quartz\n",
       "           ...    \n",
       "44738    celestine\n",
       "44739    celestine\n",
       "44740    celestine\n",
       "44757       quartz\n",
       "44770       quartz\n",
       "Name: en_satellites, Length: 5325, dtype: object"
      ]
     },
     "execution_count": 30,
     "metadata": {},
     "output_type": "execute_result"
    }
   ],
   "source": [
    "import numpy as np\n",
    "df['en_satellites'][df['en_satellites'] != \"\"]"
   ]
  },
  {
   "cell_type": "code",
   "execution_count": 26,
   "metadata": {},
   "outputs": [],
   "source": [
    "df['en_satellites'] = df['en_satellites'].fillna('')"
   ]
  },
  {
   "cell_type": "code",
   "execution_count": 12,
   "metadata": {},
   "outputs": [
    {
     "data": {
      "text/plain": [
       "id                                                            3_2545\n",
       "path                                 data/3_op/3_2545/FMM_3_2545.JPG\n",
       "height                                                          4000\n",
       "width                                                           4566\n",
       "ru_name                                                        Кварц\n",
       "ru_synonim_name                                                кварц\n",
       "ru_variety                                                     кварц\n",
       "ru_satellites                                                    NaN\n",
       "ru_description     Корка кристаллов аметиста в виде полого футляр...\n",
       "en_name                                                       quartz\n",
       "en_variety                                                  amethyst\n",
       "en_satellites                                                    NaN\n",
       "en_description     a crust of amethyst crystals in the form of a ...\n",
       "text_boxes         [[[0.86523, 0.80713], [0.87793, 0.82163]], [[0...\n",
       "mineral_boxes      [{\"label\": \"a gem\", \"confidence\": 0.156, \"box\"...\n",
       "Name: 44655, dtype: object"
      ]
     },
     "execution_count": 12,
     "metadata": {},
     "output_type": "execute_result"
    }
   ],
   "source": [
    "df.iloc[44655]"
   ]
  },
  {
   "cell_type": "code",
   "execution_count": 31,
   "metadata": {},
   "outputs": [],
   "source": [
    "min_dict = dict()\n",
    "\n",
    "for _, row in df.iterrows():\n",
    "    min_id = row['id']\n",
    "    path = row['path']\n",
    "    min_en_name = row['en_name']\n",
    "    min_en_var = row['en_variety']\n",
    "    min_en_description = row['en_description']\n",
    "    \n",
    "    \n",
    "\n",
    "    \n",
    "    min_dict[min_id] = {\n",
    "        'path': path,\n",
    "        'name': min_en_name,\n",
    "        'variety': min_en_var,\n",
    "        'description': min_en_description,\n",
    "        'satellites': row['en_satellites']\n",
    "    }"
   ]
  }
 ],
 "metadata": {
  "kernelspec": {
   "display_name": "rock-dataset",
   "language": "python",
   "name": "python3"
  },
  "language_info": {
   "codemirror_mode": {
    "name": "ipython",
    "version": 3
   },
   "file_extension": ".py",
   "mimetype": "text/x-python",
   "name": "python",
   "nbconvert_exporter": "python",
   "pygments_lexer": "ipython3",
   "version": "3.11.9"
  }
 },
 "nbformat": 4,
 "nbformat_minor": 2
}
